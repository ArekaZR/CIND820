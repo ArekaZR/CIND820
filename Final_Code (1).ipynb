{
  "nbformat": 4,
  "nbformat_minor": 0,
  "metadata": {
    "colab": {
      "name": "Final Code.ipynb",
      "provenance": [],
      "collapsed_sections": []
    },
    "kernelspec": {
      "name": "python3",
      "display_name": "Python 3"
    },
    "language_info": {
      "name": "python"
    }
  },
  "cells": [
    {
      "cell_type": "code",
      "execution_count": 39,
      "metadata": {
        "id": "aZfVYC2VXlMh"
      },
      "outputs": [],
      "source": [
        "import numpy as np\n",
        "from numpy import mean\n",
        "from numpy import absolute\n",
        "from numpy import sqrt\n",
        "\n",
        "import pandas as pd\n",
        "import io\n",
        "\n",
        "import seaborn as sns\n",
        "import matplotlib.pyplot as plt\n",
        "\n",
        "from datetime import datetime\n",
        "from datetime import date\n",
        "\n",
        "from sklearn import preprocessing\n",
        "from sklearn.preprocessing import StandardScaler\n",
        "from sklearn.metrics import r2_score\n",
        "from sklearn.model_selection import train_test_split\n",
        "from sklearn.linear_model import LinearRegression\n",
        "from sklearn.metrics import mean_squared_error\n",
        "from sklearn.model_selection import KFold\n",
        "from sklearn.model_selection import cross_val_score\n",
        "from sklearn.ensemble import RandomForestRegressor\n",
        "from sklearn.metrics import confusion_matrix\n",
        "from sklearn.tree import DecisionTreeRegressor\n",
        "\n",
        "import matplotlib.pyplot as plt"
      ]
    },
    {
      "cell_type": "code",
      "source": [
        "from google.colab import files\n",
        "upload = files.upload()\n"
      ],
      "metadata": {
        "colab": {
          "resources": {
            "http://localhost:8080/nbextensions/google.colab/files.js": {
              "data": "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",
              "ok": true,
              "headers": [
                [
                  "content-type",
                  "application/javascript"
                ]
              ],
              "status": 200,
              "status_text": ""
            }
          },
          "base_uri": "https://localhost:8080/",
          "height": 73
        },
        "id": "1EqmRFfPZaas",
        "outputId": "4791e6bc-87e3-47ed-d54f-7f4edff326f6"
      },
      "execution_count": 40,
      "outputs": [
        {
          "output_type": "display_data",
          "data": {
            "text/plain": [
              "<IPython.core.display.HTML object>"
            ],
            "text/html": [
              "\n",
              "     <input type=\"file\" id=\"files-bb563abd-3fbb-45bb-9b88-d83e8d71f227\" name=\"files[]\" multiple disabled\n",
              "        style=\"border:none\" />\n",
              "     <output id=\"result-bb563abd-3fbb-45bb-9b88-d83e8d71f227\">\n",
              "      Upload widget is only available when the cell has been executed in the\n",
              "      current browser session. Please rerun this cell to enable.\n",
              "      </output>\n",
              "      <script src=\"/nbextensions/google.colab/files.js\"></script> "
            ]
          },
          "metadata": {}
        },
        {
          "output_type": "stream",
          "name": "stdout",
          "text": [
            "Saving bmw_pricing_challenge.csv to bmw_pricing_challenge (1).csv\n"
          ]
        }
      ]
    },
    {
      "cell_type": "markdown",
      "source": [
        "Reading the dataset and reviewing it"
      ],
      "metadata": {
        "id": "SsNVtJyhp0jH"
      }
    },
    {
      "cell_type": "code",
      "source": [
        "data = pd.read_csv(io.BytesIO(upload['bmw_pricing_challenge.csv']))\n",
        "print(data)"
      ],
      "metadata": {
        "colab": {
          "base_uri": "https://localhost:8080/"
        },
        "id": "dMQTkMO5c-XF",
        "outputId": "5c50876d-a7ca-4a4f-ace1-56587e2fcf79"
      },
      "execution_count": 42,
      "outputs": [
        {
          "output_type": "stream",
          "name": "stdout",
          "text": [
            "     maker_key          model_key  mileage  engine_power registration_date  \\\n",
            "0          BMW                118   140411           100        2012-02-01   \n",
            "1          BMW                 M4    13929           317        2016-04-01   \n",
            "2          BMW                320   183297           120        2012-04-01   \n",
            "3          BMW                420   128035           135        2014-07-01   \n",
            "4          BMW                425    97097           160        2014-12-01   \n",
            "...        ...                ...      ...           ...               ...   \n",
            "4838       BMW    218 Gran Tourer    39743           110        2015-10-01   \n",
            "4839       BMW  218 Active Tourer    49832           100        2015-06-01   \n",
            "4840       BMW    218 Gran Tourer    19633           110        2015-10-01   \n",
            "4841       BMW  218 Active Tourer    27920           110        2016-04-01   \n",
            "4842       BMW                525   195840           160        2013-01-01   \n",
            "\n",
            "        fuel paint_color     car_type  feature_1  feature_2  feature_3  \\\n",
            "0     diesel       black  convertible       True       True      False   \n",
            "1     petrol        grey  convertible       True       True      False   \n",
            "2     diesel       white  convertible      False      False      False   \n",
            "3     diesel         red  convertible       True       True      False   \n",
            "4     diesel      silver  convertible       True       True      False   \n",
            "...      ...         ...          ...        ...        ...        ...   \n",
            "4838  diesel       black          van      False       True      False   \n",
            "4839  diesel        grey          van      False       True      False   \n",
            "4840  diesel        grey          van      False       True      False   \n",
            "4841  diesel       brown          van       True       True      False   \n",
            "4842  diesel        grey          van       True       True      False   \n",
            "\n",
            "      feature_4  feature_5  feature_6  feature_7  feature_8  price     sold_at  \n",
            "0         False       True       True       True      False  11300  2018-01-01  \n",
            "1         False      False       True       True       True  69700  2018-02-01  \n",
            "2         False       True      False       True      False  10200  2018-02-01  \n",
            "3         False       True       True       True       True  25100  2018-02-01  \n",
            "4         False      False       True       True       True  33400  2018-04-01  \n",
            "...         ...        ...        ...        ...        ...    ...         ...  \n",
            "4838      False      False      False       True      False  14600  2018-08-01  \n",
            "4839      False      False      False       True       True  17500  2018-08-01  \n",
            "4840      False      False      False       True       True  17000  2018-09-01  \n",
            "4841      False      False      False       True       True  22700  2018-09-01  \n",
            "4842      False       True      False       True       True  15500  2018-09-01  \n",
            "\n",
            "[4843 rows x 18 columns]\n"
          ]
        }
      ]
    },
    {
      "cell_type": "markdown",
      "source": [
        "Dropping maker key, as there is only one value in all rows."
      ],
      "metadata": {
        "id": "vT_LHkT-Mu5j"
      }
    },
    {
      "cell_type": "code",
      "source": [
        "data = data.drop('maker_key', axis=1)"
      ],
      "metadata": {
        "id": "Q2MY0PZjMsnw"
      },
      "execution_count": 43,
      "outputs": []
    },
    {
      "cell_type": "markdown",
      "source": [
        "Checking data attributes and null values. Then seeing the first 6 values of each column"
      ],
      "metadata": {
        "id": "0TuU7iK7lg1J"
      }
    },
    {
      "cell_type": "code",
      "source": [
        "print(data.dtypes)\n",
        "\n",
        "print(data.isnull().sum())\n",
        "\n",
        "data.head(6)\n",
        "#There are 0 null values in the dataset. "
      ],
      "metadata": {
        "colab": {
          "base_uri": "https://localhost:8080/",
          "height": 1000
        },
        "id": "qXBOIfBtdade",
        "outputId": "238f1843-537a-4109-86ff-e635cdcde37e"
      },
      "execution_count": 44,
      "outputs": [
        {
          "output_type": "stream",
          "name": "stdout",
          "text": [
            "model_key            object\n",
            "mileage               int64\n",
            "engine_power          int64\n",
            "registration_date    object\n",
            "fuel                 object\n",
            "paint_color          object\n",
            "car_type             object\n",
            "feature_1              bool\n",
            "feature_2              bool\n",
            "feature_3              bool\n",
            "feature_4              bool\n",
            "feature_5              bool\n",
            "feature_6              bool\n",
            "feature_7              bool\n",
            "feature_8              bool\n",
            "price                 int64\n",
            "sold_at              object\n",
            "dtype: object\n",
            "model_key            0\n",
            "mileage              0\n",
            "engine_power         0\n",
            "registration_date    0\n",
            "fuel                 0\n",
            "paint_color          0\n",
            "car_type             0\n",
            "feature_1            0\n",
            "feature_2            0\n",
            "feature_3            0\n",
            "feature_4            0\n",
            "feature_5            0\n",
            "feature_6            0\n",
            "feature_7            0\n",
            "feature_8            0\n",
            "price                0\n",
            "sold_at              0\n",
            "dtype: int64\n"
          ]
        },
        {
          "output_type": "execute_result",
          "data": {
            "text/plain": [
              "  model_key  mileage  engine_power registration_date    fuel paint_color  \\\n",
              "0       118   140411           100        2012-02-01  diesel       black   \n",
              "1        M4    13929           317        2016-04-01  petrol        grey   \n",
              "2       320   183297           120        2012-04-01  diesel       white   \n",
              "3       420   128035           135        2014-07-01  diesel         red   \n",
              "4       425    97097           160        2014-12-01  diesel      silver   \n",
              "5       335   152352           225        2011-05-01  petrol       black   \n",
              "\n",
              "      car_type  feature_1  feature_2  feature_3  feature_4  feature_5  \\\n",
              "0  convertible       True       True      False      False       True   \n",
              "1  convertible       True       True      False      False      False   \n",
              "2  convertible      False      False      False      False       True   \n",
              "3  convertible       True       True      False      False       True   \n",
              "4  convertible       True       True      False      False      False   \n",
              "5  convertible       True       True      False      False       True   \n",
              "\n",
              "   feature_6  feature_7  feature_8  price     sold_at  \n",
              "0       True       True      False  11300  2018-01-01  \n",
              "1       True       True       True  69700  2018-02-01  \n",
              "2      False       True      False  10200  2018-02-01  \n",
              "3       True       True       True  25100  2018-02-01  \n",
              "4       True       True       True  33400  2018-04-01  \n",
              "5       True       True       True  17100  2018-02-01  "
            ],
            "text/html": [
              "\n",
              "  <div id=\"df-c105fe9b-ab04-4069-bdfb-6978c901537e\">\n",
              "    <div class=\"colab-df-container\">\n",
              "      <div>\n",
              "<style scoped>\n",
              "    .dataframe tbody tr th:only-of-type {\n",
              "        vertical-align: middle;\n",
              "    }\n",
              "\n",
              "    .dataframe tbody tr th {\n",
              "        vertical-align: top;\n",
              "    }\n",
              "\n",
              "    .dataframe thead th {\n",
              "        text-align: right;\n",
              "    }\n",
              "</style>\n",
              "<table border=\"1\" class=\"dataframe\">\n",
              "  <thead>\n",
              "    <tr style=\"text-align: right;\">\n",
              "      <th></th>\n",
              "      <th>model_key</th>\n",
              "      <th>mileage</th>\n",
              "      <th>engine_power</th>\n",
              "      <th>registration_date</th>\n",
              "      <th>fuel</th>\n",
              "      <th>paint_color</th>\n",
              "      <th>car_type</th>\n",
              "      <th>feature_1</th>\n",
              "      <th>feature_2</th>\n",
              "      <th>feature_3</th>\n",
              "      <th>feature_4</th>\n",
              "      <th>feature_5</th>\n",
              "      <th>feature_6</th>\n",
              "      <th>feature_7</th>\n",
              "      <th>feature_8</th>\n",
              "      <th>price</th>\n",
              "      <th>sold_at</th>\n",
              "    </tr>\n",
              "  </thead>\n",
              "  <tbody>\n",
              "    <tr>\n",
              "      <th>0</th>\n",
              "      <td>118</td>\n",
              "      <td>140411</td>\n",
              "      <td>100</td>\n",
              "      <td>2012-02-01</td>\n",
              "      <td>diesel</td>\n",
              "      <td>black</td>\n",
              "      <td>convertible</td>\n",
              "      <td>True</td>\n",
              "      <td>True</td>\n",
              "      <td>False</td>\n",
              "      <td>False</td>\n",
              "      <td>True</td>\n",
              "      <td>True</td>\n",
              "      <td>True</td>\n",
              "      <td>False</td>\n",
              "      <td>11300</td>\n",
              "      <td>2018-01-01</td>\n",
              "    </tr>\n",
              "    <tr>\n",
              "      <th>1</th>\n",
              "      <td>M4</td>\n",
              "      <td>13929</td>\n",
              "      <td>317</td>\n",
              "      <td>2016-04-01</td>\n",
              "      <td>petrol</td>\n",
              "      <td>grey</td>\n",
              "      <td>convertible</td>\n",
              "      <td>True</td>\n",
              "      <td>True</td>\n",
              "      <td>False</td>\n",
              "      <td>False</td>\n",
              "      <td>False</td>\n",
              "      <td>True</td>\n",
              "      <td>True</td>\n",
              "      <td>True</td>\n",
              "      <td>69700</td>\n",
              "      <td>2018-02-01</td>\n",
              "    </tr>\n",
              "    <tr>\n",
              "      <th>2</th>\n",
              "      <td>320</td>\n",
              "      <td>183297</td>\n",
              "      <td>120</td>\n",
              "      <td>2012-04-01</td>\n",
              "      <td>diesel</td>\n",
              "      <td>white</td>\n",
              "      <td>convertible</td>\n",
              "      <td>False</td>\n",
              "      <td>False</td>\n",
              "      <td>False</td>\n",
              "      <td>False</td>\n",
              "      <td>True</td>\n",
              "      <td>False</td>\n",
              "      <td>True</td>\n",
              "      <td>False</td>\n",
              "      <td>10200</td>\n",
              "      <td>2018-02-01</td>\n",
              "    </tr>\n",
              "    <tr>\n",
              "      <th>3</th>\n",
              "      <td>420</td>\n",
              "      <td>128035</td>\n",
              "      <td>135</td>\n",
              "      <td>2014-07-01</td>\n",
              "      <td>diesel</td>\n",
              "      <td>red</td>\n",
              "      <td>convertible</td>\n",
              "      <td>True</td>\n",
              "      <td>True</td>\n",
              "      <td>False</td>\n",
              "      <td>False</td>\n",
              "      <td>True</td>\n",
              "      <td>True</td>\n",
              "      <td>True</td>\n",
              "      <td>True</td>\n",
              "      <td>25100</td>\n",
              "      <td>2018-02-01</td>\n",
              "    </tr>\n",
              "    <tr>\n",
              "      <th>4</th>\n",
              "      <td>425</td>\n",
              "      <td>97097</td>\n",
              "      <td>160</td>\n",
              "      <td>2014-12-01</td>\n",
              "      <td>diesel</td>\n",
              "      <td>silver</td>\n",
              "      <td>convertible</td>\n",
              "      <td>True</td>\n",
              "      <td>True</td>\n",
              "      <td>False</td>\n",
              "      <td>False</td>\n",
              "      <td>False</td>\n",
              "      <td>True</td>\n",
              "      <td>True</td>\n",
              "      <td>True</td>\n",
              "      <td>33400</td>\n",
              "      <td>2018-04-01</td>\n",
              "    </tr>\n",
              "    <tr>\n",
              "      <th>5</th>\n",
              "      <td>335</td>\n",
              "      <td>152352</td>\n",
              "      <td>225</td>\n",
              "      <td>2011-05-01</td>\n",
              "      <td>petrol</td>\n",
              "      <td>black</td>\n",
              "      <td>convertible</td>\n",
              "      <td>True</td>\n",
              "      <td>True</td>\n",
              "      <td>False</td>\n",
              "      <td>False</td>\n",
              "      <td>True</td>\n",
              "      <td>True</td>\n",
              "      <td>True</td>\n",
              "      <td>True</td>\n",
              "      <td>17100</td>\n",
              "      <td>2018-02-01</td>\n",
              "    </tr>\n",
              "  </tbody>\n",
              "</table>\n",
              "</div>\n",
              "      <button class=\"colab-df-convert\" onclick=\"convertToInteractive('df-c105fe9b-ab04-4069-bdfb-6978c901537e')\"\n",
              "              title=\"Convert this dataframe to an interactive table.\"\n",
              "              style=\"display:none;\">\n",
              "        \n",
              "  <svg xmlns=\"http://www.w3.org/2000/svg\" height=\"24px\"viewBox=\"0 0 24 24\"\n",
              "       width=\"24px\">\n",
              "    <path d=\"M0 0h24v24H0V0z\" fill=\"none\"/>\n",
              "    <path d=\"M18.56 5.44l.94 2.06.94-2.06 2.06-.94-2.06-.94-.94-2.06-.94 2.06-2.06.94zm-11 1L8.5 8.5l.94-2.06 2.06-.94-2.06-.94L8.5 2.5l-.94 2.06-2.06.94zm10 10l.94 2.06.94-2.06 2.06-.94-2.06-.94-.94-2.06-.94 2.06-2.06.94z\"/><path d=\"M17.41 7.96l-1.37-1.37c-.4-.4-.92-.59-1.43-.59-.52 0-1.04.2-1.43.59L10.3 9.45l-7.72 7.72c-.78.78-.78 2.05 0 2.83L4 21.41c.39.39.9.59 1.41.59.51 0 1.02-.2 1.41-.59l7.78-7.78 2.81-2.81c.8-.78.8-2.07 0-2.86zM5.41 20L4 18.59l7.72-7.72 1.47 1.35L5.41 20z\"/>\n",
              "  </svg>\n",
              "      </button>\n",
              "      \n",
              "  <style>\n",
              "    .colab-df-container {\n",
              "      display:flex;\n",
              "      flex-wrap:wrap;\n",
              "      gap: 12px;\n",
              "    }\n",
              "\n",
              "    .colab-df-convert {\n",
              "      background-color: #E8F0FE;\n",
              "      border: none;\n",
              "      border-radius: 50%;\n",
              "      cursor: pointer;\n",
              "      display: none;\n",
              "      fill: #1967D2;\n",
              "      height: 32px;\n",
              "      padding: 0 0 0 0;\n",
              "      width: 32px;\n",
              "    }\n",
              "\n",
              "    .colab-df-convert:hover {\n",
              "      background-color: #E2EBFA;\n",
              "      box-shadow: 0px 1px 2px rgba(60, 64, 67, 0.3), 0px 1px 3px 1px rgba(60, 64, 67, 0.15);\n",
              "      fill: #174EA6;\n",
              "    }\n",
              "\n",
              "    [theme=dark] .colab-df-convert {\n",
              "      background-color: #3B4455;\n",
              "      fill: #D2E3FC;\n",
              "    }\n",
              "\n",
              "    [theme=dark] .colab-df-convert:hover {\n",
              "      background-color: #434B5C;\n",
              "      box-shadow: 0px 1px 3px 1px rgba(0, 0, 0, 0.15);\n",
              "      filter: drop-shadow(0px 1px 2px rgba(0, 0, 0, 0.3));\n",
              "      fill: #FFFFFF;\n",
              "    }\n",
              "  </style>\n",
              "\n",
              "      <script>\n",
              "        const buttonEl =\n",
              "          document.querySelector('#df-c105fe9b-ab04-4069-bdfb-6978c901537e button.colab-df-convert');\n",
              "        buttonEl.style.display =\n",
              "          google.colab.kernel.accessAllowed ? 'block' : 'none';\n",
              "\n",
              "        async function convertToInteractive(key) {\n",
              "          const element = document.querySelector('#df-c105fe9b-ab04-4069-bdfb-6978c901537e');\n",
              "          const dataTable =\n",
              "            await google.colab.kernel.invokeFunction('convertToInteractive',\n",
              "                                                     [key], {});\n",
              "          if (!dataTable) return;\n",
              "\n",
              "          const docLinkHtml = 'Like what you see? Visit the ' +\n",
              "            '<a target=\"_blank\" href=https://colab.research.google.com/notebooks/data_table.ipynb>data table notebook</a>'\n",
              "            + ' to learn more about interactive tables.';\n",
              "          element.innerHTML = '';\n",
              "          dataTable['output_type'] = 'display_data';\n",
              "          await google.colab.output.renderOutput(dataTable, element);\n",
              "          const docLink = document.createElement('div');\n",
              "          docLink.innerHTML = docLinkHtml;\n",
              "          element.appendChild(docLink);\n",
              "        }\n",
              "      </script>\n",
              "    </div>\n",
              "  </div>\n",
              "  "
            ]
          },
          "metadata": {},
          "execution_count": 44
        }
      ]
    },
    {
      "cell_type": "markdown",
      "source": [
        "Converting sold at and registration date columns to datetime to be able to create a new column called age. This column will determine the age of the vehicle in days"
      ],
      "metadata": {
        "id": "cKdQ-MoIlZqp"
      }
    },
    {
      "cell_type": "code",
      "source": [
        "data['sold_at'] = pd.to_datetime(data['sold_at'])\n",
        "data['registration_date'] = pd.to_datetime(data['registration_date'])\n",
        "print(data.dtypes)"
      ],
      "metadata": {
        "colab": {
          "base_uri": "https://localhost:8080/"
        },
        "id": "GfRvbQFBkH0N",
        "outputId": "366d127d-0c18-4b26-b175-e0938885a669"
      },
      "execution_count": 45,
      "outputs": [
        {
          "output_type": "stream",
          "name": "stdout",
          "text": [
            "model_key                    object\n",
            "mileage                       int64\n",
            "engine_power                  int64\n",
            "registration_date    datetime64[ns]\n",
            "fuel                         object\n",
            "paint_color                  object\n",
            "car_type                     object\n",
            "feature_1                      bool\n",
            "feature_2                      bool\n",
            "feature_3                      bool\n",
            "feature_4                      bool\n",
            "feature_5                      bool\n",
            "feature_6                      bool\n",
            "feature_7                      bool\n",
            "feature_8                      bool\n",
            "price                         int64\n",
            "sold_at              datetime64[ns]\n",
            "dtype: object\n"
          ]
        }
      ]
    },
    {
      "cell_type": "markdown",
      "source": [
        "Creating a new column - \"Age\". "
      ],
      "metadata": {
        "id": "X2mCLzhRw620"
      }
    },
    {
      "cell_type": "code",
      "source": [
        "data['age']=data['sold_at'] - data['registration_date']\n",
        "data['age'].head()"
      ],
      "metadata": {
        "colab": {
          "base_uri": "https://localhost:8080/"
        },
        "id": "pt2WL_FSw3PU",
        "outputId": "ee89e4ca-8428-4972-9c4e-1fb51af5888f"
      },
      "execution_count": 46,
      "outputs": [
        {
          "output_type": "execute_result",
          "data": {
            "text/plain": [
              "0   2161 days\n",
              "1    671 days\n",
              "2   2132 days\n",
              "3   1311 days\n",
              "4   1217 days\n",
              "Name: age, dtype: timedelta64[ns]"
            ]
          },
          "metadata": {},
          "execution_count": 46
        }
      ]
    },
    {
      "cell_type": "markdown",
      "source": [
        "Converting boolean columns to 0 and 1, this way they can be included in the analysis."
      ],
      "metadata": {
        "id": "KToBDx7wUJpw"
      }
    },
    {
      "cell_type": "code",
      "source": [
        "data['feature_1'] = data['feature_1'].astype(int)\n",
        "data['feature_2'] = data['feature_2'].astype(int)\n",
        "data['feature_3'] = data['feature_3'].astype(int)\n",
        "data['feature_4'] = data['feature_4'].astype(int)\n",
        "data['feature_5'] = data['feature_5'].astype(int)\n",
        "data['feature_6'] = data['feature_6'].astype(int)\n",
        "data['feature_7'] = data['feature_7'].astype(int)\n",
        "data['feature_8'] = data['feature_8'].astype(int)\n",
        "\n",
        "data.dtypes"
      ],
      "metadata": {
        "colab": {
          "base_uri": "https://localhost:8080/"
        },
        "id": "PStaca0tUJEc",
        "outputId": "33bc17d2-b060-4274-f51f-40d9d437a15c"
      },
      "execution_count": 47,
      "outputs": [
        {
          "output_type": "execute_result",
          "data": {
            "text/plain": [
              "model_key                     object\n",
              "mileage                        int64\n",
              "engine_power                   int64\n",
              "registration_date     datetime64[ns]\n",
              "fuel                          object\n",
              "paint_color                   object\n",
              "car_type                      object\n",
              "feature_1                      int64\n",
              "feature_2                      int64\n",
              "feature_3                      int64\n",
              "feature_4                      int64\n",
              "feature_5                      int64\n",
              "feature_6                      int64\n",
              "feature_7                      int64\n",
              "feature_8                      int64\n",
              "price                          int64\n",
              "sold_at               datetime64[ns]\n",
              "age                  timedelta64[ns]\n",
              "dtype: object"
            ]
          },
          "metadata": {},
          "execution_count": 47
        }
      ]
    },
    {
      "cell_type": "markdown",
      "source": [
        "Renaming columns to identify the property of each category."
      ],
      "metadata": {
        "id": "L9_bwJlNxgNR"
      }
    },
    {
      "cell_type": "code",
      "source": [
        "data = data.rename(columns = {'feature_1': 'HasMoonRoof','feature_2': 'HasLeatherSeats','feature_3': 'HasHeatedSeats','feature_4': 'HasNavSystem','feature_5': 'HasBluetooth', 'feature_6':'HasRemoteStart', 'feature_7': 'HasBlindSpotMonitoring', 'feature_8': 'HasMSportPackage'})"
      ],
      "metadata": {
        "id": "BBjWZUQzxhxl"
      },
      "execution_count": 48,
      "outputs": []
    },
    {
      "cell_type": "markdown",
      "source": [
        "Summarizing the data to identify incorrect values and outliers."
      ],
      "metadata": {
        "id": "wb72TGL1eJ4z"
      }
    },
    {
      "cell_type": "code",
      "source": [
        "perc = [0.20, 0.40, 0.60, 0.80]\n",
        "desc = data.describe(percentiles=perc)\n",
        "desc"
      ],
      "metadata": {
        "colab": {
          "base_uri": "https://localhost:8080/",
          "height": 479
        },
        "id": "T2rAESrJ0ohJ",
        "outputId": "613d6902-e4dd-4276-c9bf-340b14829589"
      },
      "execution_count": 49,
      "outputs": [
        {
          "output_type": "execute_result",
          "data": {
            "text/plain": [
              "            mileage  engine_power  HasMoonRoof  HasLeatherSeats  \\\n",
              "count  4.843000e+03    4843.00000  4843.000000      4843.000000   \n",
              "mean   1.409628e+05     128.98823     0.549659         0.792690   \n",
              "std    6.019674e+04      38.99336     0.497579         0.405421   \n",
              "min   -6.400000e+01       0.00000     0.000000         0.000000   \n",
              "20%    9.253780e+04     100.00000     0.000000         0.000000   \n",
              "40%    1.264246e+05     120.00000     0.000000         1.000000   \n",
              "50%    1.410800e+05     120.00000     1.000000         1.000000   \n",
              "60%    1.547736e+05     135.00000     1.000000         1.000000   \n",
              "80%    1.828160e+05     150.00000     1.000000         1.000000   \n",
              "max    1.000376e+06     423.00000     1.000000         1.000000   \n",
              "\n",
              "       HasHeatedSeats  HasNavSystem  HasBluetooth  HasRemoteStart  \\\n",
              "count     4843.000000   4843.000000   4843.000000     4843.000000   \n",
              "mean         0.201941      0.198637      0.460458        0.241379   \n",
              "std          0.401490      0.399015      0.498485        0.427964   \n",
              "min          0.000000      0.000000      0.000000        0.000000   \n",
              "20%          0.000000      0.000000      0.000000        0.000000   \n",
              "40%          0.000000      0.000000      0.000000        0.000000   \n",
              "50%          0.000000      0.000000      0.000000        0.000000   \n",
              "60%          0.000000      0.000000      1.000000        0.000000   \n",
              "80%          1.000000      0.000000      1.000000        1.000000   \n",
              "max          1.000000      1.000000      1.000000        1.000000   \n",
              "\n",
              "       HasBlindSpotMonitoring  HasMSportPackage          price  \\\n",
              "count             4843.000000       4843.000000    4843.000000   \n",
              "mean                 0.932067          0.540987   15828.081767   \n",
              "std                  0.251657          0.498369    9220.285684   \n",
              "min                  0.000000          0.000000     100.000000   \n",
              "20%                  1.000000          0.000000   10100.000000   \n",
              "40%                  1.000000          0.000000   12900.000000   \n",
              "50%                  1.000000          1.000000   14200.000000   \n",
              "60%                  1.000000          1.000000   15500.000000   \n",
              "80%                  1.000000          1.000000   20200.000000   \n",
              "max                  1.000000          1.000000  178500.000000   \n",
              "\n",
              "                                age  \n",
              "count                          4843  \n",
              "mean   1983 days 17:23:21.197604800  \n",
              "std     927 days 06:40:57.469456592  \n",
              "min               215 days 00:00:00  \n",
              "20%              1430 days 00:00:00  \n",
              "40%              1673 days 00:00:00  \n",
              "50%              1765 days 00:00:00  \n",
              "60%              1887 days 00:00:00  \n",
              "80%              2222 days 00:00:00  \n",
              "max             10258 days 00:00:00  "
            ],
            "text/html": [
              "\n",
              "  <div id=\"df-ae8d6e6c-9f2a-42b4-a488-d2774e44a71f\">\n",
              "    <div class=\"colab-df-container\">\n",
              "      <div>\n",
              "<style scoped>\n",
              "    .dataframe tbody tr th:only-of-type {\n",
              "        vertical-align: middle;\n",
              "    }\n",
              "\n",
              "    .dataframe tbody tr th {\n",
              "        vertical-align: top;\n",
              "    }\n",
              "\n",
              "    .dataframe thead th {\n",
              "        text-align: right;\n",
              "    }\n",
              "</style>\n",
              "<table border=\"1\" class=\"dataframe\">\n",
              "  <thead>\n",
              "    <tr style=\"text-align: right;\">\n",
              "      <th></th>\n",
              "      <th>mileage</th>\n",
              "      <th>engine_power</th>\n",
              "      <th>HasMoonRoof</th>\n",
              "      <th>HasLeatherSeats</th>\n",
              "      <th>HasHeatedSeats</th>\n",
              "      <th>HasNavSystem</th>\n",
              "      <th>HasBluetooth</th>\n",
              "      <th>HasRemoteStart</th>\n",
              "      <th>HasBlindSpotMonitoring</th>\n",
              "      <th>HasMSportPackage</th>\n",
              "      <th>price</th>\n",
              "      <th>age</th>\n",
              "    </tr>\n",
              "  </thead>\n",
              "  <tbody>\n",
              "    <tr>\n",
              "      <th>count</th>\n",
              "      <td>4.843000e+03</td>\n",
              "      <td>4843.00000</td>\n",
              "      <td>4843.000000</td>\n",
              "      <td>4843.000000</td>\n",
              "      <td>4843.000000</td>\n",
              "      <td>4843.000000</td>\n",
              "      <td>4843.000000</td>\n",
              "      <td>4843.000000</td>\n",
              "      <td>4843.000000</td>\n",
              "      <td>4843.000000</td>\n",
              "      <td>4843.000000</td>\n",
              "      <td>4843</td>\n",
              "    </tr>\n",
              "    <tr>\n",
              "      <th>mean</th>\n",
              "      <td>1.409628e+05</td>\n",
              "      <td>128.98823</td>\n",
              "      <td>0.549659</td>\n",
              "      <td>0.792690</td>\n",
              "      <td>0.201941</td>\n",
              "      <td>0.198637</td>\n",
              "      <td>0.460458</td>\n",
              "      <td>0.241379</td>\n",
              "      <td>0.932067</td>\n",
              "      <td>0.540987</td>\n",
              "      <td>15828.081767</td>\n",
              "      <td>1983 days 17:23:21.197604800</td>\n",
              "    </tr>\n",
              "    <tr>\n",
              "      <th>std</th>\n",
              "      <td>6.019674e+04</td>\n",
              "      <td>38.99336</td>\n",
              "      <td>0.497579</td>\n",
              "      <td>0.405421</td>\n",
              "      <td>0.401490</td>\n",
              "      <td>0.399015</td>\n",
              "      <td>0.498485</td>\n",
              "      <td>0.427964</td>\n",
              "      <td>0.251657</td>\n",
              "      <td>0.498369</td>\n",
              "      <td>9220.285684</td>\n",
              "      <td>927 days 06:40:57.469456592</td>\n",
              "    </tr>\n",
              "    <tr>\n",
              "      <th>min</th>\n",
              "      <td>-6.400000e+01</td>\n",
              "      <td>0.00000</td>\n",
              "      <td>0.000000</td>\n",
              "      <td>0.000000</td>\n",
              "      <td>0.000000</td>\n",
              "      <td>0.000000</td>\n",
              "      <td>0.000000</td>\n",
              "      <td>0.000000</td>\n",
              "      <td>0.000000</td>\n",
              "      <td>0.000000</td>\n",
              "      <td>100.000000</td>\n",
              "      <td>215 days 00:00:00</td>\n",
              "    </tr>\n",
              "    <tr>\n",
              "      <th>20%</th>\n",
              "      <td>9.253780e+04</td>\n",
              "      <td>100.00000</td>\n",
              "      <td>0.000000</td>\n",
              "      <td>0.000000</td>\n",
              "      <td>0.000000</td>\n",
              "      <td>0.000000</td>\n",
              "      <td>0.000000</td>\n",
              "      <td>0.000000</td>\n",
              "      <td>1.000000</td>\n",
              "      <td>0.000000</td>\n",
              "      <td>10100.000000</td>\n",
              "      <td>1430 days 00:00:00</td>\n",
              "    </tr>\n",
              "    <tr>\n",
              "      <th>40%</th>\n",
              "      <td>1.264246e+05</td>\n",
              "      <td>120.00000</td>\n",
              "      <td>0.000000</td>\n",
              "      <td>1.000000</td>\n",
              "      <td>0.000000</td>\n",
              "      <td>0.000000</td>\n",
              "      <td>0.000000</td>\n",
              "      <td>0.000000</td>\n",
              "      <td>1.000000</td>\n",
              "      <td>0.000000</td>\n",
              "      <td>12900.000000</td>\n",
              "      <td>1673 days 00:00:00</td>\n",
              "    </tr>\n",
              "    <tr>\n",
              "      <th>50%</th>\n",
              "      <td>1.410800e+05</td>\n",
              "      <td>120.00000</td>\n",
              "      <td>1.000000</td>\n",
              "      <td>1.000000</td>\n",
              "      <td>0.000000</td>\n",
              "      <td>0.000000</td>\n",
              "      <td>0.000000</td>\n",
              "      <td>0.000000</td>\n",
              "      <td>1.000000</td>\n",
              "      <td>1.000000</td>\n",
              "      <td>14200.000000</td>\n",
              "      <td>1765 days 00:00:00</td>\n",
              "    </tr>\n",
              "    <tr>\n",
              "      <th>60%</th>\n",
              "      <td>1.547736e+05</td>\n",
              "      <td>135.00000</td>\n",
              "      <td>1.000000</td>\n",
              "      <td>1.000000</td>\n",
              "      <td>0.000000</td>\n",
              "      <td>0.000000</td>\n",
              "      <td>1.000000</td>\n",
              "      <td>0.000000</td>\n",
              "      <td>1.000000</td>\n",
              "      <td>1.000000</td>\n",
              "      <td>15500.000000</td>\n",
              "      <td>1887 days 00:00:00</td>\n",
              "    </tr>\n",
              "    <tr>\n",
              "      <th>80%</th>\n",
              "      <td>1.828160e+05</td>\n",
              "      <td>150.00000</td>\n",
              "      <td>1.000000</td>\n",
              "      <td>1.000000</td>\n",
              "      <td>1.000000</td>\n",
              "      <td>0.000000</td>\n",
              "      <td>1.000000</td>\n",
              "      <td>1.000000</td>\n",
              "      <td>1.000000</td>\n",
              "      <td>1.000000</td>\n",
              "      <td>20200.000000</td>\n",
              "      <td>2222 days 00:00:00</td>\n",
              "    </tr>\n",
              "    <tr>\n",
              "      <th>max</th>\n",
              "      <td>1.000376e+06</td>\n",
              "      <td>423.00000</td>\n",
              "      <td>1.000000</td>\n",
              "      <td>1.000000</td>\n",
              "      <td>1.000000</td>\n",
              "      <td>1.000000</td>\n",
              "      <td>1.000000</td>\n",
              "      <td>1.000000</td>\n",
              "      <td>1.000000</td>\n",
              "      <td>1.000000</td>\n",
              "      <td>178500.000000</td>\n",
              "      <td>10258 days 00:00:00</td>\n",
              "    </tr>\n",
              "  </tbody>\n",
              "</table>\n",
              "</div>\n",
              "      <button class=\"colab-df-convert\" onclick=\"convertToInteractive('df-ae8d6e6c-9f2a-42b4-a488-d2774e44a71f')\"\n",
              "              title=\"Convert this dataframe to an interactive table.\"\n",
              "              style=\"display:none;\">\n",
              "        \n",
              "  <svg xmlns=\"http://www.w3.org/2000/svg\" height=\"24px\"viewBox=\"0 0 24 24\"\n",
              "       width=\"24px\">\n",
              "    <path d=\"M0 0h24v24H0V0z\" fill=\"none\"/>\n",
              "    <path d=\"M18.56 5.44l.94 2.06.94-2.06 2.06-.94-2.06-.94-.94-2.06-.94 2.06-2.06.94zm-11 1L8.5 8.5l.94-2.06 2.06-.94-2.06-.94L8.5 2.5l-.94 2.06-2.06.94zm10 10l.94 2.06.94-2.06 2.06-.94-2.06-.94-.94-2.06-.94 2.06-2.06.94z\"/><path d=\"M17.41 7.96l-1.37-1.37c-.4-.4-.92-.59-1.43-.59-.52 0-1.04.2-1.43.59L10.3 9.45l-7.72 7.72c-.78.78-.78 2.05 0 2.83L4 21.41c.39.39.9.59 1.41.59.51 0 1.02-.2 1.41-.59l7.78-7.78 2.81-2.81c.8-.78.8-2.07 0-2.86zM5.41 20L4 18.59l7.72-7.72 1.47 1.35L5.41 20z\"/>\n",
              "  </svg>\n",
              "      </button>\n",
              "      \n",
              "  <style>\n",
              "    .colab-df-container {\n",
              "      display:flex;\n",
              "      flex-wrap:wrap;\n",
              "      gap: 12px;\n",
              "    }\n",
              "\n",
              "    .colab-df-convert {\n",
              "      background-color: #E8F0FE;\n",
              "      border: none;\n",
              "      border-radius: 50%;\n",
              "      cursor: pointer;\n",
              "      display: none;\n",
              "      fill: #1967D2;\n",
              "      height: 32px;\n",
              "      padding: 0 0 0 0;\n",
              "      width: 32px;\n",
              "    }\n",
              "\n",
              "    .colab-df-convert:hover {\n",
              "      background-color: #E2EBFA;\n",
              "      box-shadow: 0px 1px 2px rgba(60, 64, 67, 0.3), 0px 1px 3px 1px rgba(60, 64, 67, 0.15);\n",
              "      fill: #174EA6;\n",
              "    }\n",
              "\n",
              "    [theme=dark] .colab-df-convert {\n",
              "      background-color: #3B4455;\n",
              "      fill: #D2E3FC;\n",
              "    }\n",
              "\n",
              "    [theme=dark] .colab-df-convert:hover {\n",
              "      background-color: #434B5C;\n",
              "      box-shadow: 0px 1px 3px 1px rgba(0, 0, 0, 0.15);\n",
              "      filter: drop-shadow(0px 1px 2px rgba(0, 0, 0, 0.3));\n",
              "      fill: #FFFFFF;\n",
              "    }\n",
              "  </style>\n",
              "\n",
              "      <script>\n",
              "        const buttonEl =\n",
              "          document.querySelector('#df-ae8d6e6c-9f2a-42b4-a488-d2774e44a71f button.colab-df-convert');\n",
              "        buttonEl.style.display =\n",
              "          google.colab.kernel.accessAllowed ? 'block' : 'none';\n",
              "\n",
              "        async function convertToInteractive(key) {\n",
              "          const element = document.querySelector('#df-ae8d6e6c-9f2a-42b4-a488-d2774e44a71f');\n",
              "          const dataTable =\n",
              "            await google.colab.kernel.invokeFunction('convertToInteractive',\n",
              "                                                     [key], {});\n",
              "          if (!dataTable) return;\n",
              "\n",
              "          const docLinkHtml = 'Like what you see? Visit the ' +\n",
              "            '<a target=\"_blank\" href=https://colab.research.google.com/notebooks/data_table.ipynb>data table notebook</a>'\n",
              "            + ' to learn more about interactive tables.';\n",
              "          element.innerHTML = '';\n",
              "          dataTable['output_type'] = 'display_data';\n",
              "          await google.colab.output.renderOutput(dataTable, element);\n",
              "          const docLink = document.createElement('div');\n",
              "          docLink.innerHTML = docLinkHtml;\n",
              "          element.appendChild(docLink);\n",
              "        }\n",
              "      </script>\n",
              "    </div>\n",
              "  </div>\n",
              "  "
            ]
          },
          "metadata": {},
          "execution_count": 49
        }
      ]
    },
    {
      "cell_type": "markdown",
      "source": [
        "Visualizing Fuel Type\n",
        "\n",
        "\n",
        "*   We can see that diesel is the most popular fuel type in available pre-owned BMW vehicles\n",
        "*   Petrol is the second one on the list, however it is nowhere close to diesel\n",
        "\n"
      ],
      "metadata": {
        "id": "GSNR6Wbrdy98"
      }
    },
    {
      "cell_type": "code",
      "source": [
        "plt.figure(figsize=(10,10))\n",
        "sns.countplot(data[\"fuel\"])\n",
        "plt.title(\"Fuel Type\")\n",
        "plt.xlabel(\"Fuel Type\")\n",
        "plt.ylabel(\"Count\")\n",
        "plt.show"
      ],
      "metadata": {
        "colab": {
          "base_uri": "https://localhost:8080/",
          "height": 694
        },
        "id": "eLYVeZ3qdKXX",
        "outputId": "224286d9-9a9f-42a6-e62d-bd649f7bb889"
      },
      "execution_count": 50,
      "outputs": [
        {
          "output_type": "stream",
          "name": "stderr",
          "text": [
            "/usr/local/lib/python3.7/dist-packages/seaborn/_decorators.py:43: FutureWarning: Pass the following variable as a keyword arg: x. From version 0.12, the only valid positional argument will be `data`, and passing other arguments without an explicit keyword will result in an error or misinterpretation.\n",
            "  FutureWarning\n"
          ]
        },
        {
          "output_type": "execute_result",
          "data": {
            "text/plain": [
              "<function matplotlib.pyplot.show>"
            ]
          },
          "metadata": {},
          "execution_count": 50
        },
        {
          "output_type": "display_data",
          "data": {
            "text/plain": [
              "<Figure size 720x720 with 1 Axes>"
            ],
            "image/png": "[encoded data removed]"
          },
          "metadata": {
            "needs_background": "light"
          }
        }
      ]
    },
    {
      "cell_type": "markdown",
      "source": [
        "Comparing fuel type with price, we see that hybrid petrol is the most expensive type of vehicle in this dataset."
      ],
      "metadata": {
        "id": "tDscS7fFO7uF"
      }
    },
    {
      "cell_type": "code",
      "source": [
        "plt.figure(figsize=(10,10))\n",
        "sns.boxplot(data=data,x=\"fuel\",y=\"price\",order=data.fuel.value_counts().index);\n",
        "plt.title(\"Fuel Type\")\n",
        "plt.ylabel(\"Price\")"
      ],
      "metadata": {
        "colab": {
          "base_uri": "https://localhost:8080/",
          "height": 639
        },
        "id": "91ycL0GjOxDK",
        "outputId": "f9e8f90b-dba2-41f5-ca7d-f59234b2efec"
      },
      "execution_count": 51,
      "outputs": [
        {
          "output_type": "execute_result",
          "data": {
            "text/plain": [
              "Text(0, 0.5, 'Price')"
            ]
          },
          "metadata": {},
          "execution_count": 51
        },
        {
          "output_type": "display_data",
          "data": {
            "text/plain": [
              "<Figure size 720x720 with 1 Axes>"
            ],
            "image/png": "[encoded data removed]"
          },
          "metadata": {
            "needs_background": "light"
          }
        }
      ]
    },
    {
      "cell_type": "markdown",
      "source": [
        "Replacing fuel types to numbers so that it can be included in the analysis."
      ],
      "metadata": {
        "id": "_CPXTfV5lRXt"
      }
    },
    {
      "cell_type": "code",
      "source": [
        "data['fuel'] = data['fuel'].replace(\"diesel\",1)\n",
        "data['fuel'] = data['fuel'].replace(\"petrol\",2)\n",
        "data['fuel'] = data['fuel'].replace(\"hybrid_petrol\",3)\n",
        "data['fuel'] = data['fuel'].replace(\"electro\",4)"
      ],
      "metadata": {
        "id": "duS7Il9_lM23"
      },
      "execution_count": 52,
      "outputs": []
    },
    {
      "cell_type": "markdown",
      "source": [
        "Visualizing Car Type\n",
        "\n",
        "\n",
        "*   Estate vehicles were the most popular car type\n",
        "*   Number two on the list are sedans, followed by suv's.\n",
        "\n",
        "\n"
      ],
      "metadata": {
        "id": "haxaaqdad3c5"
      }
    },
    {
      "cell_type": "code",
      "source": [
        "plt.figure(figsize=(10,5))\n",
        "sns.countplot(data[\"car_type\"])\n",
        "plt.title(\"Car Type\")\n",
        "plt.xlabel(\"Car Type\")\n",
        "plt.ylabel(\"Count\")\n",
        "plt.show"
      ],
      "metadata": {
        "colab": {
          "base_uri": "https://localhost:8080/",
          "height": 422
        },
        "id": "kM5lIv_ud3E4",
        "outputId": "8e531a7c-0595-4091-e26d-5b1925e8b0be"
      },
      "execution_count": 53,
      "outputs": [
        {
          "output_type": "stream",
          "name": "stderr",
          "text": [
            "/usr/local/lib/python3.7/dist-packages/seaborn/_decorators.py:43: FutureWarning: Pass the following variable as a keyword arg: x. From version 0.12, the only valid positional argument will be `data`, and passing other arguments without an explicit keyword will result in an error or misinterpretation.\n",
            "  FutureWarning\n"
          ]
        },
        {
          "output_type": "execute_result",
          "data": {
            "text/plain": [
              "<function matplotlib.pyplot.show>"
            ]
          },
          "metadata": {},
          "execution_count": 53
        },
        {
          "output_type": "display_data",
          "data": {
            "text/plain": [
              "<Figure size 720x360 with 1 Axes>"
            ],
            "image/png": "[encoded data removed]"
          },
          "metadata": {
            "needs_background": "light"
          }
        }
      ]
    },
    {
      "cell_type": "markdown",
      "source": [
        "Viewing car type against price:\n",
        "\n",
        "\n",
        "*   SUV and coupe are the most expensive type of BMW\n",
        "\n"
      ],
      "metadata": {
        "id": "R_jbo8EEr5II"
      }
    },
    {
      "cell_type": "code",
      "source": [
        "plt.figure(figsize=(10,10))\n",
        "sns.boxplot(data=data,x=\"car_type\",y=\"price\",order=data.car_type.value_counts().index);\n",
        "plt.title(\"Car Type\")\n",
        "plt.ylabel(\"Price\")"
      ],
      "metadata": {
        "colab": {
          "base_uri": "https://localhost:8080/",
          "height": 639
        },
        "id": "_UfRd4f-rB7z",
        "outputId": "be03d1c1-27ac-47c7-c3f3-0da2acd0de9a"
      },
      "execution_count": 54,
      "outputs": [
        {
          "output_type": "execute_result",
          "data": {
            "text/plain": [
              "Text(0, 0.5, 'Price')"
            ]
          },
          "metadata": {},
          "execution_count": 54
        },
        {
          "output_type": "display_data",
          "data": {
            "text/plain": [
              "<Figure size 720x720 with 1 Axes>"
            ],
            "image/png": "[encoded data removed]"
          },
          "metadata": {
            "needs_background": "light"
          }
        }
      ]
    },
    {
      "cell_type": "markdown",
      "source": [
        "Replacing values with numbers to include in our analysis."
      ],
      "metadata": {
        "id": "qEd6SJxpm1U2"
      }
    },
    {
      "cell_type": "code",
      "source": [
        "data['car_type'] = data['car_type'].replace(\"convertible\",1)\n",
        "data['car_type'] = data['car_type'].replace(\"coupe\",2)\n",
        "data['car_type'] = data['car_type'].replace(\"estate\",3)\n",
        "data['car_type'] = data['car_type'].replace(\"hatchback\",4)\n",
        "data['car_type'] = data['car_type'].replace(\"sedan\",5)\n",
        "data['car_type'] = data['car_type'].replace(\"subcompact\",6)\n",
        "data['car_type'] = data['car_type'].replace(\"suv\",7)\n",
        "data['car_type'] = data['car_type'].replace(\"van\",8)"
      ],
      "metadata": {
        "id": "Ps-2Nywclusb"
      },
      "execution_count": 55,
      "outputs": []
    },
    {
      "cell_type": "markdown",
      "source": [
        "Visualizing Paint Color\n",
        "\n",
        "\n",
        "*   The most popular color among pre-owned BMW vehicles is black, followed by grey.\n",
        "\n"
      ],
      "metadata": {
        "id": "zg4z3BFpglhx"
      }
    },
    {
      "cell_type": "code",
      "source": [
        "plt.figure(figsize=(10,5))\n",
        "sns.countplot(data[\"paint_color\"])\n",
        "plt.title(\"Paint Color\")\n",
        "plt.xlabel(\"Paint Color\")\n",
        "plt.ylabel(\"Count\")\n",
        "plt.show"
      ],
      "metadata": {
        "colab": {
          "base_uri": "https://localhost:8080/",
          "height": 422
        },
        "id": "MU9O5tdxfVok",
        "outputId": "5e4b4dfc-a7ba-44a5-fb81-bb5c22b42dd1"
      },
      "execution_count": 56,
      "outputs": [
        {
          "output_type": "stream",
          "name": "stderr",
          "text": [
            "/usr/local/lib/python3.7/dist-packages/seaborn/_decorators.py:43: FutureWarning: Pass the following variable as a keyword arg: x. From version 0.12, the only valid positional argument will be `data`, and passing other arguments without an explicit keyword will result in an error or misinterpretation.\n",
            "  FutureWarning\n"
          ]
        },
        {
          "output_type": "execute_result",
          "data": {
            "text/plain": [
              "<function matplotlib.pyplot.show>"
            ]
          },
          "metadata": {},
          "execution_count": 56
        },
        {
          "output_type": "display_data",
          "data": {
            "text/plain": [
              "<Figure size 720x360 with 1 Axes>"
            ],
            "image/png": "[encoded data removed]"
          },
          "metadata": {
            "needs_background": "light"
          }
        }
      ]
    },
    {
      "cell_type": "markdown",
      "source": [
        "Visualizing if paint color affects price.\n",
        "\n",
        "\n",
        "*   The color orange is the most expensive in this dataset on an average\n",
        "*   The most expensive seems to be an outlier, and is the color blue.\n",
        "\n"
      ],
      "metadata": {
        "id": "rzT7JDyxvfrZ"
      }
    },
    {
      "cell_type": "code",
      "source": [
        "plt.figure(figsize=(10,10))\n",
        "sns.boxplot(data=data,x=\"paint_color\",y=\"price\",order=data.paint_color.value_counts().index);\n",
        "plt.title(\"Paint Color\")\n",
        "plt.ylabel(\"Price\")"
      ],
      "metadata": {
        "colab": {
          "base_uri": "https://localhost:8080/",
          "height": 639
        },
        "id": "3Set7Z0yuwVm",
        "outputId": "b9d776d3-2365-4007-9fb2-89223a034fc4"
      },
      "execution_count": 57,
      "outputs": [
        {
          "output_type": "execute_result",
          "data": {
            "text/plain": [
              "Text(0, 0.5, 'Price')"
            ]
          },
          "metadata": {},
          "execution_count": 57
        },
        {
          "output_type": "display_data",
          "data": {
            "text/plain": [
              "<Figure size 720x720 with 1 Axes>"
            ],
            "image/png": "[encoded data removed]"
          },
          "metadata": {
            "needs_background": "light"
          }
        }
      ]
    },
    {
      "cell_type": "markdown",
      "source": [
        "Replacing colors to numbers in order to include them in the analysis."
      ],
      "metadata": {
        "id": "H0D4dskinpVW"
      }
    },
    {
      "cell_type": "code",
      "source": [
        "data['paint_color'] = data['paint_color'].replace(\"black\",1)\n",
        "data['paint_color'] = data['paint_color'].replace(\"grey\",2)\n",
        "data['paint_color'] = data['paint_color'].replace(\"white\",3)\n",
        "data['paint_color'] = data['paint_color'].replace(\"red\",4)\n",
        "data['paint_color'] = data['paint_color'].replace(\"silver\",5)\n",
        "data['paint_color'] = data['paint_color'].replace(\"blue\",6)\n",
        "data['paint_color'] = data['paint_color'].replace(\"orange\",7)\n",
        "data['paint_color'] = data['paint_color'].replace(\"beige\",8)\n",
        "data['paint_color'] = data['paint_color'].replace(\"brown\",9)\n",
        "data['paint_color'] = data['paint_color'].replace(\"green\",10)"
      ],
      "metadata": {
        "id": "-AKr4Z5Bm9-V"
      },
      "execution_count": 58,
      "outputs": []
    },
    {
      "cell_type": "markdown",
      "source": [
        "Viewing histograms for each attribute."
      ],
      "metadata": {
        "id": "A0OfHP9FYu1G"
      }
    },
    {
      "cell_type": "code",
      "source": [
        "hist = data.hist(layout=(5,5), figsize=(30,50))"
      ],
      "metadata": {
        "colab": {
          "base_uri": "https://localhost:8080/",
          "height": 1000
        },
        "id": "SVeAlCxWYZnx",
        "outputId": "e8f833d6-80c6-4c40-dfc9-a826e69fb243"
      },
      "execution_count": 38,
      "outputs": [
        {
          "output_type": "display_data",
          "data": {
            "text/plain": [
              "<Figure size 2160x3600 with 25 Axes>"
            ],
            "image/png": "[encoded data removed]"
          },
          "metadata": {
            "needs_background": "light"
          }
        }
      ]
    },
    {
      "cell_type": "markdown",
      "source": [
        "Adjusting incorrect and illogical values.\n",
        "\n",
        "*   Mileage had -64 as a value, that is not possible. This will be ammended to reflect 64.\n",
        "*   Engine power had a value of 0, once again this is not possible. This will be adjusted according to the mean"
      ],
      "metadata": {
        "id": "MdQVX2Fmyscd"
      }
    },
    {
      "cell_type": "code",
      "source": [
        "data['mileage'].replace(\n",
        "    to_replace=[-64],\n",
        "    value=64,\n",
        "    inplace=True\n",
        ")"
      ],
      "metadata": {
        "id": "0bj3q7aczDrc"
      },
      "execution_count": 59,
      "outputs": []
    },
    {
      "cell_type": "code",
      "source": [
        "data['mileage'].min()"
      ],
      "metadata": {
        "colab": {
          "base_uri": "https://localhost:8080/"
        },
        "id": "Mh5oHVfno2tu",
        "outputId": "fe8f2455-76f3-47b7-e3c8-238c23493b84"
      },
      "execution_count": 60,
      "outputs": [
        {
          "output_type": "execute_result",
          "data": {
            "text/plain": [
              "64"
            ]
          },
          "metadata": {},
          "execution_count": 60
        }
      ]
    },
    {
      "cell_type": "markdown",
      "source": [
        "The value that replaced the 0 for engine power was the mean of the column engine power."
      ],
      "metadata": {
        "id": "dm7AWsvgdIkk"
      }
    },
    {
      "cell_type": "code",
      "source": [
        "data['engine_power'].replace(\n",
        "    to_replace=[0],\n",
        "    value=128.98233,\n",
        "    inplace=True\n",
        ")"
      ],
      "metadata": {
        "id": "WffAG4OTcjZK"
      },
      "execution_count": 61,
      "outputs": []
    },
    {
      "cell_type": "code",
      "source": [
        "data['engine_power'].min()"
      ],
      "metadata": {
        "colab": {
          "base_uri": "https://localhost:8080/"
        },
        "id": "T_DKO4Plc7Ej",
        "outputId": "0c02e163-a6d9-454e-d30b-847cccd44bea"
      },
      "execution_count": 62,
      "outputs": [
        {
          "output_type": "execute_result",
          "data": {
            "text/plain": [
              "25.0"
            ]
          },
          "metadata": {},
          "execution_count": 62
        }
      ]
    },
    {
      "cell_type": "markdown",
      "source": [
        "Corr plot to view the correlation between price and other variables."
      ],
      "metadata": {
        "id": "56gkFWr0ie-2"
      }
    },
    {
      "cell_type": "code",
      "source": [
        "correlation1=plt.figure(figsize=(12,12))\n",
        "corr=pd.concat([data['price'],data], axis=1).corr()\n",
        "sns.heatmap(corr, annot=True)"
      ],
      "metadata": {
        "colab": {
          "base_uri": "https://localhost:8080/",
          "height": 831
        },
        "id": "F-REpMBOfEaH",
        "outputId": "78cfb32a-32bf-45a9-95b6-11c180a216c7"
      },
      "execution_count": 63,
      "outputs": [
        {
          "output_type": "execute_result",
          "data": {
            "text/plain": [
              "<matplotlib.axes._subplots.AxesSubplot at 0x7fdd270c2d10>"
            ]
          },
          "metadata": {},
          "execution_count": 63
        },
        {
          "output_type": "display_data",
          "data": {
            "text/plain": [
              "<Figure size 864x864 with 2 Axes>"
            ],
            "image/png": "[encoded data removed]"
          },
          "metadata": {
            "needs_background": "light"
          }
        }
      ]
    },
    {
      "cell_type": "markdown",
      "source": [
        "Price is highly correlated with engine power. This is followed by Has M Sport Package and Has Nav System, among others."
      ],
      "metadata": {
        "id": "RqUPtjJXjeXT"
      }
    },
    {
      "cell_type": "markdown",
      "source": [
        "Looking at engine power in closer detail.\n",
        "\n",
        "\n",
        "*   100-150HP has the highest frequency \n",
        "*   Followed by 75-100HP\n",
        "\n"
      ],
      "metadata": {
        "id": "B5rxOR1yLoYn"
      }
    },
    {
      "cell_type": "code",
      "source": [
        "data.hist(column='engine_power', color='orange')"
      ],
      "metadata": {
        "colab": {
          "base_uri": "https://localhost:8080/",
          "height": 316
        },
        "id": "QZazQYNTkR7t",
        "outputId": "665f1cc1-d194-4730-b125-0f0c98e871ca"
      },
      "execution_count": 64,
      "outputs": [
        {
          "output_type": "execute_result",
          "data": {
            "text/plain": [
              "array([[<matplotlib.axes._subplots.AxesSubplot object at 0x7fdd245f8290>]],\n",
              "      dtype=object)"
            ]
          },
          "metadata": {},
          "execution_count": 64
        },
        {
          "output_type": "display_data",
          "data": {
            "text/plain": [
              "<Figure size 432x288 with 1 Axes>"
            ],
            "image/png": "[encoded data removed]"
          },
          "metadata": {
            "needs_background": "light"
          }
        }
      ]
    },
    {
      "cell_type": "markdown",
      "source": [
        "This boxplot of price allows us to visualize the varying prices in this dataset. We see that the minimum price is 0 and the maximum is 178500. Furthermore, we see that there are a great number of outliers, but this is understandable as there are a lot of features that go into determining the price of a vehicle. The average price in this dataset is $15828."
      ],
      "metadata": {
        "id": "3x5BUduyNYeC"
      }
    },
    {
      "cell_type": "code",
      "source": [
        "data.boxplot(column=[\"price\"])"
      ],
      "metadata": {
        "colab": {
          "base_uri": "https://localhost:8080/",
          "height": 282
        },
        "id": "Yf50gobXmNHJ",
        "outputId": "6f5e57e9-23a3-4b6c-8a92-db5833ac3d78"
      },
      "execution_count": 65,
      "outputs": [
        {
          "output_type": "execute_result",
          "data": {
            "text/plain": [
              "<matplotlib.axes._subplots.AxesSubplot at 0x7fdd245aa050>"
            ]
          },
          "metadata": {},
          "execution_count": 65
        },
        {
          "output_type": "display_data",
          "data": {
            "text/plain": [
              "<Figure size 432x288 with 1 Axes>"
            ],
            "image/png": "[encoded data removed]"
          },
          "metadata": {
            "needs_background": "light"
          }
        }
      ]
    },
    {
      "cell_type": "markdown",
      "source": [
        "This scatterplot allows us to visualize the correlation between price and engine power. There is strong positive correlation, with a number of outliers which was expected."
      ],
      "metadata": {
        "id": "qTvyeAz8OvVt"
      }
    },
    {
      "cell_type": "code",
      "source": [
        "plt.scatter(data[\"engine_power\"],data[\"price\"])\n",
        "plt.show()"
      ],
      "metadata": {
        "colab": {
          "base_uri": "https://localhost:8080/",
          "height": 265
        },
        "id": "dX_LE1e2re4X",
        "outputId": "73009b90-6a83-483c-cf02-be183d3ecef5"
      },
      "execution_count": 66,
      "outputs": [
        {
          "output_type": "display_data",
          "data": {
            "text/plain": [
              "<Figure size 432x288 with 1 Axes>"
            ],
            "image/png": "[encoded data removed]"
          },
          "metadata": {
            "needs_background": "light"
          }
        }
      ]
    },
    {
      "cell_type": "markdown",
      "source": [
        "Normalizing the numeric attributes according to the dataset. This process standardizes all the attributes selected. Features often have different ranges. Normalization ensures that the attributes that have larger scales will no longer affect other attributes with values of smaller scales."
      ],
      "metadata": {
        "id": "kkIg8_yIsWz9"
      }
    },
    {
      "cell_type": "code",
      "source": [
        "cols_to_norm = ['price','mileage','paint_color','car_type','fuel','engine_power', 'HasMoonRoof', 'HasLeatherSeats', 'HasHeatedSeats', 'HasNavSystem', 'HasBluetooth', 'HasRemoteStart', 'HasBlindSpotMonitoring','HasMSportPackage']\n",
        "data[cols_to_norm]=StandardScaler().fit_transform(data[cols_to_norm])"
      ],
      "metadata": {
        "id": "j2xee7EGsZjg"
      },
      "execution_count": 67,
      "outputs": []
    },
    {
      "cell_type": "code",
      "source": [
        "data.head()"
      ],
      "metadata": {
        "colab": {
          "base_uri": "https://localhost:8080/",
          "height": 357
        },
        "id": "XvgkLdWtvWHW",
        "outputId": "b73b1fb8-af65-4ea9-d5ea-a4e97f171ee2"
      },
      "execution_count": 68,
      "outputs": [
        {
          "output_type": "execute_result",
          "data": {
            "text/plain": [
              "  model_key   mileage  engine_power registration_date      fuel  paint_color  \\\n",
              "0       118 -0.009168     -0.745017        2012-02-01 -0.200198    -0.875628   \n",
              "1        M4 -2.110531      4.826909        2016-04-01  4.288501    -0.471216   \n",
              "2       320  0.703337     -0.231475        2012-04-01 -0.200198    -0.066804   \n",
              "3       420 -0.214782      0.153681        2014-07-01 -0.200198     0.337609   \n",
              "4       425 -0.728784      0.795608        2014-12-01 -0.200198     0.742021   \n",
              "\n",
              "   car_type  HasMoonRoof  HasLeatherSeats  HasHeatedSeats  HasNavSystem  \\\n",
              "0 -2.209949     0.905157         0.511397       -0.503031      -0.49787   \n",
              "1 -2.209949     0.905157         0.511397       -0.503031      -0.49787   \n",
              "2 -2.209949    -1.104781        -1.955430       -0.503031      -0.49787   \n",
              "3 -2.209949     0.905157         0.511397       -0.503031      -0.49787   \n",
              "4 -2.209949     0.905157         0.511397       -0.503031      -0.49787   \n",
              "\n",
              "   HasBluetooth  HasRemoteStart  HasBlindSpotMonitoring  HasMSportPackage  \\\n",
              "0      1.082474        1.772811                0.269971         -1.085628   \n",
              "1     -0.923810        1.772811                0.269971          0.921126   \n",
              "2      1.082474       -0.564076                0.269971         -1.085628   \n",
              "3      1.082474        1.772811                0.269971          0.921126   \n",
              "4     -0.923810        1.772811                0.269971          0.921126   \n",
              "\n",
              "      price    sold_at       age  \n",
              "0 -0.491151 2018-01-01 2161 days  \n",
              "1  5.843364 2018-02-01  671 days  \n",
              "2 -0.610465 2018-02-01 2132 days  \n",
              "3  1.005704 2018-02-01 1311 days  \n",
              "4  1.905986 2018-04-01 1217 days  "
            ],
            "text/html": [
              "\n",
              "  <div id=\"df-06299a2a-33de-4be9-b49b-e0e7a9802d06\">\n",
              "    <div class=\"colab-df-container\">\n",
              "      <div>\n",
              "<style scoped>\n",
              "    .dataframe tbody tr th:only-of-type {\n",
              "        vertical-align: middle;\n",
              "    }\n",
              "\n",
              "    .dataframe tbody tr th {\n",
              "        vertical-align: top;\n",
              "    }\n",
              "\n",
              "    .dataframe thead th {\n",
              "        text-align: right;\n",
              "    }\n",
              "</style>\n",
              "<table border=\"1\" class=\"dataframe\">\n",
              "  <thead>\n",
              "    <tr style=\"text-align: right;\">\n",
              "      <th></th>\n",
              "      <th>model_key</th>\n",
              "      <th>mileage</th>\n",
              "      <th>engine_power</th>\n",
              "      <th>registration_date</th>\n",
              "      <th>fuel</th>\n",
              "      <th>paint_color</th>\n",
              "      <th>car_type</th>\n",
              "      <th>HasMoonRoof</th>\n",
              "      <th>HasLeatherSeats</th>\n",
              "      <th>HasHeatedSeats</th>\n",
              "      <th>HasNavSystem</th>\n",
              "      <th>HasBluetooth</th>\n",
              "      <th>HasRemoteStart</th>\n",
              "      <th>HasBlindSpotMonitoring</th>\n",
              "      <th>HasMSportPackage</th>\n",
              "      <th>price</th>\n",
              "      <th>sold_at</th>\n",
              "      <th>age</th>\n",
              "    </tr>\n",
              "  </thead>\n",
              "  <tbody>\n",
              "    <tr>\n",
              "      <th>0</th>\n",
              "      <td>118</td>\n",
              "      <td>-0.009168</td>\n",
              "      <td>-0.745017</td>\n",
              "      <td>2012-02-01</td>\n",
              "      <td>-0.200198</td>\n",
              "      <td>-0.875628</td>\n",
              "      <td>-2.209949</td>\n",
              "      <td>0.905157</td>\n",
              "      <td>0.511397</td>\n",
              "      <td>-0.503031</td>\n",
              "      <td>-0.49787</td>\n",
              "      <td>1.082474</td>\n",
              "      <td>1.772811</td>\n",
              "      <td>0.269971</td>\n",
              "      <td>-1.085628</td>\n",
              "      <td>-0.491151</td>\n",
              "      <td>2018-01-01</td>\n",
              "      <td>2161 days</td>\n",
              "    </tr>\n",
              "    <tr>\n",
              "      <th>1</th>\n",
              "      <td>M4</td>\n",
              "      <td>-2.110531</td>\n",
              "      <td>4.826909</td>\n",
              "      <td>2016-04-01</td>\n",
              "      <td>4.288501</td>\n",
              "      <td>-0.471216</td>\n",
              "      <td>-2.209949</td>\n",
              "      <td>0.905157</td>\n",
              "      <td>0.511397</td>\n",
              "      <td>-0.503031</td>\n",
              "      <td>-0.49787</td>\n",
              "      <td>-0.923810</td>\n",
              "      <td>1.772811</td>\n",
              "      <td>0.269971</td>\n",
              "      <td>0.921126</td>\n",
              "      <td>5.843364</td>\n",
              "      <td>2018-02-01</td>\n",
              "      <td>671 days</td>\n",
              "    </tr>\n",
              "    <tr>\n",
              "      <th>2</th>\n",
              "      <td>320</td>\n",
              "      <td>0.703337</td>\n",
              "      <td>-0.231475</td>\n",
              "      <td>2012-04-01</td>\n",
              "      <td>-0.200198</td>\n",
              "      <td>-0.066804</td>\n",
              "      <td>-2.209949</td>\n",
              "      <td>-1.104781</td>\n",
              "      <td>-1.955430</td>\n",
              "      <td>-0.503031</td>\n",
              "      <td>-0.49787</td>\n",
              "      <td>1.082474</td>\n",
              "      <td>-0.564076</td>\n",
              "      <td>0.269971</td>\n",
              "      <td>-1.085628</td>\n",
              "      <td>-0.610465</td>\n",
              "      <td>2018-02-01</td>\n",
              "      <td>2132 days</td>\n",
              "    </tr>\n",
              "    <tr>\n",
              "      <th>3</th>\n",
              "      <td>420</td>\n",
              "      <td>-0.214782</td>\n",
              "      <td>0.153681</td>\n",
              "      <td>2014-07-01</td>\n",
              "      <td>-0.200198</td>\n",
              "      <td>0.337609</td>\n",
              "      <td>-2.209949</td>\n",
              "      <td>0.905157</td>\n",
              "      <td>0.511397</td>\n",
              "      <td>-0.503031</td>\n",
              "      <td>-0.49787</td>\n",
              "      <td>1.082474</td>\n",
              "      <td>1.772811</td>\n",
              "      <td>0.269971</td>\n",
              "      <td>0.921126</td>\n",
              "      <td>1.005704</td>\n",
              "      <td>2018-02-01</td>\n",
              "      <td>1311 days</td>\n",
              "    </tr>\n",
              "    <tr>\n",
              "      <th>4</th>\n",
              "      <td>425</td>\n",
              "      <td>-0.728784</td>\n",
              "      <td>0.795608</td>\n",
              "      <td>2014-12-01</td>\n",
              "      <td>-0.200198</td>\n",
              "      <td>0.742021</td>\n",
              "      <td>-2.209949</td>\n",
              "      <td>0.905157</td>\n",
              "      <td>0.511397</td>\n",
              "      <td>-0.503031</td>\n",
              "      <td>-0.49787</td>\n",
              "      <td>-0.923810</td>\n",
              "      <td>1.772811</td>\n",
              "      <td>0.269971</td>\n",
              "      <td>0.921126</td>\n",
              "      <td>1.905986</td>\n",
              "      <td>2018-04-01</td>\n",
              "      <td>1217 days</td>\n",
              "    </tr>\n",
              "  </tbody>\n",
              "</table>\n",
              "</div>\n",
              "      <button class=\"colab-df-convert\" onclick=\"convertToInteractive('df-06299a2a-33de-4be9-b49b-e0e7a9802d06')\"\n",
              "              title=\"Convert this dataframe to an interactive table.\"\n",
              "              style=\"display:none;\">\n",
              "        \n",
              "  <svg xmlns=\"http://www.w3.org/2000/svg\" height=\"24px\"viewBox=\"0 0 24 24\"\n",
              "       width=\"24px\">\n",
              "    <path d=\"M0 0h24v24H0V0z\" fill=\"none\"/>\n",
              "    <path d=\"M18.56 5.44l.94 2.06.94-2.06 2.06-.94-2.06-.94-.94-2.06-.94 2.06-2.06.94zm-11 1L8.5 8.5l.94-2.06 2.06-.94-2.06-.94L8.5 2.5l-.94 2.06-2.06.94zm10 10l.94 2.06.94-2.06 2.06-.94-2.06-.94-.94-2.06-.94 2.06-2.06.94z\"/><path d=\"M17.41 7.96l-1.37-1.37c-.4-.4-.92-.59-1.43-.59-.52 0-1.04.2-1.43.59L10.3 9.45l-7.72 7.72c-.78.78-.78 2.05 0 2.83L4 21.41c.39.39.9.59 1.41.59.51 0 1.02-.2 1.41-.59l7.78-7.78 2.81-2.81c.8-.78.8-2.07 0-2.86zM5.41 20L4 18.59l7.72-7.72 1.47 1.35L5.41 20z\"/>\n",
              "  </svg>\n",
              "      </button>\n",
              "      \n",
              "  <style>\n",
              "    .colab-df-container {\n",
              "      display:flex;\n",
              "      flex-wrap:wrap;\n",
              "      gap: 12px;\n",
              "    }\n",
              "\n",
              "    .colab-df-convert {\n",
              "      background-color: #E8F0FE;\n",
              "      border: none;\n",
              "      border-radius: 50%;\n",
              "      cursor: pointer;\n",
              "      display: none;\n",
              "      fill: #1967D2;\n",
              "      height: 32px;\n",
              "      padding: 0 0 0 0;\n",
              "      width: 32px;\n",
              "    }\n",
              "\n",
              "    .colab-df-convert:hover {\n",
              "      background-color: #E2EBFA;\n",
              "      box-shadow: 0px 1px 2px rgba(60, 64, 67, 0.3), 0px 1px 3px 1px rgba(60, 64, 67, 0.15);\n",
              "      fill: #174EA6;\n",
              "    }\n",
              "\n",
              "    [theme=dark] .colab-df-convert {\n",
              "      background-color: #3B4455;\n",
              "      fill: #D2E3FC;\n",
              "    }\n",
              "\n",
              "    [theme=dark] .colab-df-convert:hover {\n",
              "      background-color: #434B5C;\n",
              "      box-shadow: 0px 1px 3px 1px rgba(0, 0, 0, 0.15);\n",
              "      filter: drop-shadow(0px 1px 2px rgba(0, 0, 0, 0.3));\n",
              "      fill: #FFFFFF;\n",
              "    }\n",
              "  </style>\n",
              "\n",
              "      <script>\n",
              "        const buttonEl =\n",
              "          document.querySelector('#df-06299a2a-33de-4be9-b49b-e0e7a9802d06 button.colab-df-convert');\n",
              "        buttonEl.style.display =\n",
              "          google.colab.kernel.accessAllowed ? 'block' : 'none';\n",
              "\n",
              "        async function convertToInteractive(key) {\n",
              "          const element = document.querySelector('#df-06299a2a-33de-4be9-b49b-e0e7a9802d06');\n",
              "          const dataTable =\n",
              "            await google.colab.kernel.invokeFunction('convertToInteractive',\n",
              "                                                     [key], {});\n",
              "          if (!dataTable) return;\n",
              "\n",
              "          const docLinkHtml = 'Like what you see? Visit the ' +\n",
              "            '<a target=\"_blank\" href=https://colab.research.google.com/notebooks/data_table.ipynb>data table notebook</a>'\n",
              "            + ' to learn more about interactive tables.';\n",
              "          element.innerHTML = '';\n",
              "          dataTable['output_type'] = 'display_data';\n",
              "          await google.colab.output.renderOutput(dataTable, element);\n",
              "          const docLink = document.createElement('div');\n",
              "          docLink.innerHTML = docLinkHtml;\n",
              "          element.appendChild(docLink);\n",
              "        }\n",
              "      </script>\n",
              "    </div>\n",
              "  </div>\n",
              "  "
            ]
          },
          "metadata": {},
          "execution_count": 68
        }
      ]
    },
    {
      "cell_type": "markdown",
      "source": [
        "Dropping price from the dataframe to isolate it for prediction."
      ],
      "metadata": {
        "id": "RMW4jaUEWtXI"
      }
    },
    {
      "cell_type": "code",
      "source": [
        "x = data[cols_to_norm].drop('price', axis=1)\n",
        "y = data.price"
      ],
      "metadata": {
        "id": "yASCtuYcKqjv"
      },
      "execution_count": 69,
      "outputs": []
    },
    {
      "cell_type": "markdown",
      "source": [
        "Dividing the dataset to training and test sets. Random state was included to ensure results are reproducible."
      ],
      "metadata": {
        "id": "1KjRNJykHAYq"
      }
    },
    {
      "cell_type": "code",
      "source": [
        "x_train, x_test, y_train, y_test = train_test_split(x, y, test_size=0.80, random_state=42)"
      ],
      "metadata": {
        "id": "fsK0BmfTLTC7"
      },
      "execution_count": 70,
      "outputs": []
    },
    {
      "cell_type": "code",
      "source": [
        "print(f\"No. of x training examples: {x_train.shape[0]}\")\n",
        "print(f\"No. of y training examples: {y_train.shape[0]}\")\n",
        "print(f\"No. of x testing examples: {x_test.shape[0]}\")\n",
        "print(f\"No. of y testing examples: {y_test.shape[0]}\")"
      ],
      "metadata": {
        "colab": {
          "base_uri": "https://localhost:8080/"
        },
        "id": "665QvID6MG-N",
        "outputId": "3d6e1a1b-7d74-4853-912f-499349a1e64e"
      },
      "execution_count": 71,
      "outputs": [
        {
          "output_type": "stream",
          "name": "stdout",
          "text": [
            "No. of x training examples: 968\n",
            "No. of y training examples: 968\n",
            "No. of x testing examples: 3875\n",
            "No. of y testing examples: 3875\n"
          ]
        }
      ]
    },
    {
      "cell_type": "markdown",
      "source": [
        "Model #1: Multiple Linear Regression"
      ],
      "metadata": {
        "id": "JmDvhz9mJY8V"
      }
    },
    {
      "cell_type": "code",
      "source": [
        "LR = LinearRegression()\n",
        "LR.fit(x_train, y_train)\n",
        "\n",
        "y_prediction = LR.predict(x_test)\n",
        "y_prediction"
      ],
      "metadata": {
        "colab": {
          "base_uri": "https://localhost:8080/"
        },
        "id": "Fj72fQHxJXsC",
        "outputId": "68546583-e24b-4801-c49c-14cefdb896bf"
      },
      "execution_count": 72,
      "outputs": [
        {
          "output_type": "execute_result",
          "data": {
            "text/plain": [
              "array([ 0.14811824, -0.67523351,  1.10930452, ..., -0.67257656,\n",
              "        0.02010355, -0.01705081])"
            ]
          },
          "metadata": {},
          "execution_count": 72
        }
      ]
    },
    {
      "cell_type": "code",
      "source": [
        "print('Intercept: \\n', LR.intercept_)\n",
        "print('Coefficients: \\n', LR.coef_)"
      ],
      "metadata": {
        "colab": {
          "base_uri": "https://localhost:8080/"
        },
        "id": "oJFbIrBVOv9P",
        "outputId": "cad66447-4555-489e-e2cf-750174c6f96e"
      },
      "execution_count": 73,
      "outputs": [
        {
          "output_type": "stream",
          "name": "stdout",
          "text": [
            "Intercept: \n",
            " 0.01777155673560478\n",
            "Coefficients: \n",
            " [-0.38299976 -0.02469446  0.0914665  -0.0355812   0.50995183  0.0491526\n",
            "  0.08185497  0.04989617  0.09284903 -0.04117361  0.03563168  0.02690171\n",
            "  0.14397569]\n"
          ]
        }
      ]
    },
    {
      "cell_type": "code",
      "source": [
        "print(\"R Square Value :\",LR.score(x_test,y_test))"
      ],
      "metadata": {
        "colab": {
          "base_uri": "https://localhost:8080/"
        },
        "id": "eCUWs6e-VaSH",
        "outputId": "aa70034e-cd2c-474f-e84e-5c128e3daa09"
      },
      "execution_count": 74,
      "outputs": [
        {
          "output_type": "stream",
          "name": "stdout",
          "text": [
            "R Square Value : 0.5844520221195526\n"
          ]
        }
      ]
    },
    {
      "cell_type": "markdown",
      "source": [
        "Predicting the price of a car that has a mileage of 500, 1400 HP, uses petrol as fuel, is silver, is a sedan, has a moon roof, has leather seats, has bluetooth, has blind spot monitoring and is 7300 days old. The price is $827.73"
      ],
      "metadata": {
        "id": "nRizBfPRtUdL"
      }
    },
    {
      "cell_type": "code",
      "source": [
        "Predictedprice = LR.predict([[500, 1400, 2, 5,5,1,1,0,0,1,0,1,7300]])"
      ],
      "metadata": {
        "colab": {
          "base_uri": "https://localhost:8080/"
        },
        "id": "LAHyJwrMsJGh",
        "outputId": "2d609504-3ddc-4008-ca20-ff2a27d99232"
      },
      "execution_count": 75,
      "outputs": [
        {
          "output_type": "stream",
          "name": "stderr",
          "text": [
            "/usr/local/lib/python3.7/dist-packages/sklearn/base.py:451: UserWarning: X does not have valid feature names, but LinearRegression was fitted with feature names\n",
            "  \"X does not have valid feature names, but\"\n"
          ]
        }
      ]
    },
    {
      "cell_type": "code",
      "source": [
        "print(Predictedprice)"
      ],
      "metadata": {
        "colab": {
          "base_uri": "https://localhost:8080/"
        },
        "id": "2zHd9tuHtMSU",
        "outputId": "35906669-8166-44d0-e832-712299185d3e"
      },
      "execution_count": 76,
      "outputs": [
        {
          "output_type": "stream",
          "name": "stdout",
          "text": [
            "[827.6396755]\n"
          ]
        }
      ]
    },
    {
      "cell_type": "markdown",
      "source": [
        "Model 1b. Random Forest Regression.\n",
        "\n",
        "\n",
        "*   Determining the tree count and random data count\n",
        "*   Evaluation Algorithm: The closer it is to 1, the better the model is. In this case it is 0.6.\n",
        "\n"
      ],
      "metadata": {
        "id": "XBbMo5m0l_Y5"
      }
    },
    {
      "cell_type": "code",
      "source": [
        "RFRegressor= RandomForestRegressor(n_estimators=50, random_state = 42) \n",
        "RFRegressor.fit(x_train,y_train) # create model\n",
        "\n",
        "data_score =[]\n",
        "# Calculate R Square\n",
        "print(\"R Square Value :\",RFRegressor.score(x_test,y_test))\n",
        "data_score.append(RFRegressor.score(x_test,y_test))"
      ],
      "metadata": {
        "colab": {
          "base_uri": "https://localhost:8080/"
        },
        "id": "GR3dmBP_To7i",
        "outputId": "55b82325-de95-4cb9-e7d8-6fdaadc55657"
      },
      "execution_count": 77,
      "outputs": [
        {
          "output_type": "stream",
          "name": "stdout",
          "text": [
            "R Square Value : 0.6447192423894189\n"
          ]
        }
      ]
    },
    {
      "cell_type": "markdown",
      "source": [
        "Model 1c. Decision Tree Regressor"
      ],
      "metadata": {
        "id": "D8ltEsJESC2i"
      }
    },
    {
      "cell_type": "markdown",
      "source": [
        "This model has a very low R square value, and will be rejected."
      ],
      "metadata": {
        "id": "y8vxJbX0TLYX"
      }
    },
    {
      "cell_type": "code",
      "source": [
        "DecisionTreeReg = DecisionTreeRegressor()\n",
        "DecisionTreeReg.fit(x_train,y_train)\n",
        "predict_DecisionTreeReg = DecisionTreeReg.predict(x_test)\n",
        "print(\"R Square Value :\", DecisionTreeReg.score(x_test,y_test))\n",
        "data_score.append(DecisionTreeReg.score(x_test,y_test))"
      ],
      "metadata": {
        "colab": {
          "base_uri": "https://localhost:8080/"
        },
        "id": "jTsEW6wgQo7J",
        "outputId": "a61917e3-cedc-4ff4-8f32-29511a66f385"
      },
      "execution_count": 78,
      "outputs": [
        {
          "output_type": "stream",
          "name": "stdout",
          "text": [
            "R Square Value : 0.4437596433190789\n"
          ]
        }
      ]
    },
    {
      "cell_type": "markdown",
      "source": [
        "Model #2: K Fold Cross Validation"
      ],
      "metadata": {
        "id": "OryH78nh0xvd"
      }
    },
    {
      "cell_type": "markdown",
      "source": [
        "Defining the predictor and response variables"
      ],
      "metadata": {
        "id": "OAqyg7c92df5"
      }
    },
    {
      "cell_type": "code",
      "source": [
        "a = data [['price','mileage','fuel', 'paint_color', 'car_type','engine_power', 'HasMoonRoof', 'HasLeatherSeats', 'HasHeatedSeats', 'HasNavSystem', 'HasBluetooth', 'HasRemoteStart', 'HasBlindSpotMonitoring','HasMSportPackage']]\n",
        "b = data ['price']"
      ],
      "metadata": {
        "id": "Iu_4IKxe0xWd"
      },
      "execution_count": 79,
      "outputs": []
    },
    {
      "cell_type": "markdown",
      "source": [
        "Defining cross-validation method being used and building multiple linear regression model. At the end, using k-fold cross validation to evaluate model and viewing the mean absolute error"
      ],
      "metadata": {
        "id": "hZCqk-Wr2l-e"
      }
    },
    {
      "cell_type": "markdown",
      "source": [
        "The mean absolute error (MAE) is ~6.87e-16. This is the average absolute error between my model prediction and the actual observed data. We know that the lower the MAE, the more closely a model is able to predict the actual observations. In this case, the MAE is very miniscule."
      ],
      "metadata": {
        "id": "XmFnvGNn28Pt"
      }
    },
    {
      "cell_type": "code",
      "source": [
        "cv = KFold(n_splits=10, random_state=1, shuffle=True)\n",
        "model = LinearRegression()\n",
        "scores = cross_val_score(model, a, b, scoring='neg_mean_absolute_error', cv=cv, n_jobs=-1)\n",
        "mean(absolute(scores))"
      ],
      "metadata": {
        "id": "rHoBCiYg1uSD",
        "outputId": "b14a0ed1-e6fd-40f3-87de-92d7f8fa753b",
        "colab": {
          "base_uri": "https://localhost:8080/"
        }
      },
      "execution_count": 80,
      "outputs": [
        {
          "output_type": "execute_result",
          "data": {
            "text/plain": [
              "6.872111166299963e-16"
            ]
          },
          "metadata": {},
          "execution_count": 80
        }
      ]
    }
  ]
}